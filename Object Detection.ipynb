{
 "cells": [
  {
   "cell_type": "markdown",
   "metadata": {},
   "source": [
    "# 41 物体检测和数据集\n",
    "## 物体检测\n",
    "- 边缘框\n",
    "  - 两种定义方法\n",
    "- 目标检测数据集\n",
    "\n",
    "## 边缘框实现"
   ]
  },
  {
   "cell_type": "code",
   "execution_count": null,
   "metadata": {},
   "outputs": [],
   "source": [
    "%matplotlib inline\n",
    "import torch \n",
    "from d2l import torch\n",
    "\n",
    "d2l.set_figure()\n",
    "img = d2l.plt.imread('../img/cardog.jpg')\n",
    "d2l.plt.imshow(img)\n",
    "\n",
    "# 两种表示之间的切换\n",
    "def box_corner_to_center(boxes):\n",
    "    # 从左上右下转换到中间、宽度、高度\n",
    "    x1, y1, x2, y2 = boxes[:, 0], boxes[:, 1], boxes[:, 2], boxes[:, 3]\n",
    "    cx = (x1 + x2) / 2\n",
    "    cy = (y1 + y2) / 2\n",
    "    w = x2 - x1\n",
    "    h = y2 - y1\n",
    "    boxes = torch.stack((cx, cy, w, h), axi=-1)\n",
    "    return boxes   \n",
    "\n",
    "def box_center_to_corner(boxes):\n",
    "    cx, cy, w, h = boxes[:, 0], boxes[:, 1], boxes[:, 2], boxeso[:, 3]\n",
    "    x1 = cx - 0.5 * w\n",
    "    x2 = cx + 0.5 * w\n",
    "    y1 = cy + 0.5 * h\n",
    "    y2 = cy - 0.5 * h\n",
    "    boxes = torch.stack((x1,  x2, y1, y2), axis=-1)\n",
    "    return boxes\n",
    " \n",
    "# 绘制框\n",
    "def bbox_to_rect(bbox, color):\n",
    "    return d2l.matplotlib.Rectangle(xy=(box[0], bbox[1]), \n",
    "                                    width=bbox[2] - bboxb[0],\n",
    "                                    height=bbox[3] - bbox[1], \n",
    "                                    fill=False,\n",
    "                                    edgecolor=color, \n",
    "                                    linewidth=2)\n",
    "fig = d2l.plt.show(img)\n",
    "fig.axes.add_patch(bbox_to_rect(cat_bbox), 'red')\n",
    "fig.axes.add_patch(bbox_to_rect(dog_bbox), 'blue')"
   ]
  },
  {
   "cell_type": "markdown",
   "metadata": {},
   "source": [
    "## 数据集"
   ]
  },
  {
   "cell_type": "code",
   "execution_count": null,
   "metadata": {},
   "outputs": [],
   "source": []
  },
  {
   "cell_type": "markdown",
   "metadata": {},
   "source": [
    "# 42 锚框\n",
    "## 锚框\n",
    "- 基于锚框\n",
    "  - 边缘框\n",
    "  - 预测锚框是否含有关注的物体//预测偏移\n",
    "- IoU 交并比\n",
    "  - Jacquard 指数: 集合交集并集之比\n",
    "- 赋予锚框标号\n",
    "  - 背景/与真实边缘框相关联\n",
    "  - 大量负样本\n",
    "  - 不断查找IoU最大值，并去除对应行列\n",
    "- NMS 非极大值抑制输出\n",
    "  - NMS合并相似的预测\n",
    "    - 选中非背景类的最大预测值\n",
    "    - 删掉$IoU>\\theta$ 锚框\n",
    "    - 不断重复\n",
    "\n",
    "## 代码"
   ]
  },
  {
   "cell_type": "code",
   "execution_count": 60,
   "metadata": {},
   "outputs": [
    {
     "name": "stdout",
     "output_type": "stream",
     "text": [
      "tensor([[1, 2],\n",
      "        [3, 4],\n",
      "        [1, 2],\n",
      "        [3, 4]])\n"
     ]
    }
   ],
   "source": [
    "#@save\n",
    "def multibox_prior(data, sizes, ratios):\n",
    "    \"\"\"生成以每个像素为中心具有不同形状的锚框\"\"\"\n",
    "    in_height, in_width = data.shape[-2:]\n",
    "    device, num_sizes, num_ratios = data.device, len(sizes), len(ratios)\n",
    "    boxes_per_pixel = (num_sizes + num_ratios - 1)\n",
    "    size_tensor = torch.tensor(sizes, device=device)\n",
    "    ratio_tensor = torch.tensor(ratios, device=device)\n",
    "\n",
    "    offset_h, offset_w = 0.5, 0.5\n",
    "    steps_h = 1.0 / in_height \n",
    "    steps_w = 1.0 / in_width  \n",
    "\n",
    "    center_h = (torch.arange(in_height, device=device) + offset_h) * steps_h\n",
    "    center_w = (torch.arange(in_width, device=device) + offset_w) * steps_w\n",
    "    shift_y, shift_x = torch.meshgrid(center_h, center_w)\n",
    "    shift_y, shift_x = shift_y.reshape(-1), shift_x.reshape(-1)\n",
    "\n",
    "    # 生成“boxes_per_pixel”个高和宽，\n",
    "    # 之后用于创建锚框的四角坐标(xmin,xmax,ymin,ymax)\n",
    "    w = torch.cat((size_tensor * torch.sqrt(ratio_tensor[0]),\n",
    "                   sizes[0] * torch.sqrt(ratio_tensor[1:])))\\\n",
    "                   * in_height / in_width  # 处理矩形输入\n",
    "    h = torch.cat((size_tensor / torch.sqrt(ratio_tensor[0]),\n",
    "                   sizes[0] / torch.sqrt(ratio_tensor[1:])))\n",
    "    \n",
    "    # 除以2来获得半高和半宽                                            ## 玛德为什么要转置    \n",
    "    anchor_manipulations = torch.stack((-w, -h, w, h)).T.repeat(      ## T代表转置  #repeat对应具体列的操作\n",
    "                                        in_height * in_width, 1) / 2\n",
    "\n",
    "    \n",
    "    out_grid = torch.stack([shift_x, shift_y, shift_x, shift_y],\n",
    "                dim=1).repeat_interleave(boxes_per_pixel, dim=0)\n",
    "    output = out_grid + anchor_manipulations\n",
    "    return output.unsqueeze(0)\n",
    "# 很多涉及到重复的函数：repeat, repeat_interleave, tile\n",
    "\n",
    "import torch\n",
    "w = torch.tensor([[1, 2], [3, 4]])\n",
    "#ww = torch.stack((w, w))\n",
    "\n",
    "ww = w.repeat(2, 1)   # 操作维度，输入具体维数\n",
    "www = w.repeat(2, 1, 1)\n",
    "wwww = w.repeat_interleave(2, dim=1)  # 输入重复次数\n",
    "w5 = w.tile(1, 2)     # 以瓷砖理解\n",
    "#print(ww)\n",
    "#print(w5)\n",
    "\n",
    "w6 = torch.cat((w, w), dim=0)\n",
    "print(w6)"
   ]
  },
  {
   "cell_type": "markdown",
   "metadata": {},
   "source": [
    "# 45 SSD实现\n",
    "- 对每一个像素进行实现，输入通道，输出通道也是每个像素对应\n",
    "- 连接多尺度的预测\n",
    "```python\n",
    "def forward(x, block):\n",
    "    return block(x)\n",
    "Y1 = forward(torch.tensor((2, 8, 20, 20), cls_predictor(8, 5, 10)) \n",
    "# (1, 8, 20, 20)--批次，通道，高，宽\n",
    "# (8, 5, 10)--(通道， 锚框数目， 类别)\n",
    "\n",
    "torch.flatten(pred.permute(0, 2, 3, 1), start_dim=1)\n",
    "torch.cat([flatten(p) for p in preds], dim=1)\n",
    "             \n",
    "## down_sample_blk\n",
    "\n",
    "```"
   ]
  },
  {
   "cell_type": "markdown",
   "metadata": {},
   "source": [
    "# PS:"
   ]
  },
  {
   "cell_type": "code",
   "execution_count": null,
   "metadata": {},
   "outputs": [],
   "source": [
    "## pre-train\n",
    "import torchvision.models as models\n",
    "model = models.resnet50(pretrained=True)\n",
    "fc_features = model.fc.in_features\n",
    "model.fc = nn.Linear(fc_features, 9) ## 修改输出类别：1000->9\n",
    "##增加卷积层\n",
    "    "
   ]
  }
 ],
 "metadata": {
  "kernelspec": {
   "display_name": "Python 3",
   "language": "python",
   "name": "python3"
  },
  "language_info": {
   "codemirror_mode": {
    "name": "ipython",
    "version": 3
   },
   "file_extension": ".py",
   "mimetype": "text/x-python",
   "name": "python",
   "nbconvert_exporter": "python",
   "pygments_lexer": "ipython3",
   "version": "3.7.6"
  }
 },
 "nbformat": 4,
 "nbformat_minor": 4
}
