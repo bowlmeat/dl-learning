{
 "cells": [
  {
   "cell_type": "code",
   "execution_count": 4,
   "metadata": {},
   "outputs": [
    {
     "name": "stdout",
     "output_type": "stream",
     "text": [
      "('abc', 1)\n",
      "abc xyz 789 [1]\n",
      "{'d': [1]}\n"
     ]
    }
   ],
   "source": [
    "\n",
    "def foo(a, b='abc', *, c=1, d=[]):   ## 这里就是*起作用\n",
    "    b = 'xyz'\n",
    "    c = 789\n",
    "    d.append(1)\n",
    "    print(a, b, c, d)\n",
    "print(foo.__defaults__)\n",
    "foo('abc')\n",
    "print(foo.__kwdefaults__)"
   ]
  }
 ],
 "metadata": {
  "kernelspec": {
   "display_name": "Python 3",
   "language": "python",
   "name": "python3"
  },
  "language_info": {
   "codemirror_mode": {
    "name": "ipython",
    "version": 3
   },
   "file_extension": ".py",
   "mimetype": "text/x-python",
   "name": "python",
   "nbconvert_exporter": "python",
   "pygments_lexer": "ipython3",
   "version": "3.7.6"
  }
 },
 "nbformat": 4,
 "nbformat_minor": 4
}
