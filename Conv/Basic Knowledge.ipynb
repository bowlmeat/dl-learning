{
 "cells": [
  {
   "cell_type": "code",
   "execution_count": 4,
   "metadata": {},
   "outputs": [
    {
     "name": "stdout",
     "output_type": "stream",
     "text": [
      "('abc', 1)\n",
      "abc xyz 789 [1]\n",
      "{'d': [1]}\n"
     ]
    }
   ],
   "source": [
    "def foo(a, b='abc', *, c=1, d=[]):   ## 这里就是*起作用\n",
    "    b = 'xyz'\n",
    "    c = 789\n",
    "    d.append(1)\n",
    "    print(a, b, c, d)\n",
    "print(foo.__defaults__)\n",
    "foo('abc')\n",
    "print(foo.__kwdefaults__)"
   ]
  },
  {
   "cell_type": "markdown",
   "metadata": {},
   "source": [
    "## kwargs基本使用"
   ]
  },
  {
   "cell_type": "code",
   "execution_count": 9,
   "metadata": {},
   "outputs": [
    {
     "ename": "TypeError",
     "evalue": "greet_me() takes 0 positional arguments but 3 were given",
     "output_type": "error",
     "traceback": [
      "\u001b[1;31m---------------------------------------------------------------------------\u001b[0m",
      "\u001b[1;31mTypeError\u001b[0m                                 Traceback (most recent call last)",
      "\u001b[1;32m<ipython-input-9-4441ab9f93a8>\u001b[0m in \u001b[0;36m<module>\u001b[1;34m\u001b[0m\n\u001b[0;32m      7\u001b[0m \u001b[0marg\u001b[0m \u001b[1;33m=\u001b[0m \u001b[1;33m(\u001b[0m\u001b[1;34m'name'\u001b[0m\u001b[1;33m,\u001b[0m \u001b[1;34m'year'\u001b[0m\u001b[1;33m,\u001b[0m \u001b[1;34m'gender'\u001b[0m\u001b[1;33m)\u001b[0m\u001b[1;33m\u001b[0m\u001b[1;33m\u001b[0m\u001b[0m\n\u001b[0;32m      8\u001b[0m \u001b[1;31m# args = {name:\"name\", year:\"year\", gender:\"gender\"}\u001b[0m\u001b[1;33m\u001b[0m\u001b[1;33m\u001b[0m\u001b[1;33m\u001b[0m\u001b[0m\n\u001b[1;32m----> 9\u001b[1;33m \u001b[0mgreet_me\u001b[0m\u001b[1;33m(\u001b[0m\u001b[1;33m*\u001b[0m\u001b[0marg\u001b[0m\u001b[1;33m)\u001b[0m\u001b[1;33m\u001b[0m\u001b[1;33m\u001b[0m\u001b[0m\n\u001b[0m",
      "\u001b[1;31mTypeError\u001b[0m: greet_me() takes 0 positional arguments but 3 were given"
     ]
    }
   ],
   "source": [
    "def greet_me(**kwargs):\n",
    "    for key, value in kwargs.items():\n",
    "        print(\"{0} is the key of {1}\".format(key, value))\n",
    "    \n",
    "# greet_me(name='hahaha')     \"\"\"调用虽然看起来是 字典 但是写的时候以函数写\"\"\"\n",
    "\n",
    "arg = ('name', 'year', 'gender')\n",
    "# args = {name:\"name\", year:\"year\", gender:\"gender\"}\n",
    "greet_me(*arg)"
   ]
  },
  {
   "cell_type": "markdown",
   "metadata": {},
   "source": [
    "## iterator"
   ]
  },
  {
   "cell_type": "code",
   "execution_count": null,
   "metadata": {},
   "outputs": [],
   "source": []
  },
  {
   "cell_type": "code",
   "execution_count": null,
   "metadata": {},
   "outputs": [],
   "source": [
    "from functools import wraps\n",
    "\n",
    "class logit(object):\n",
    "    def __init__(self, logfile='out.log'):\n",
    "        self.logfile = logfile\n",
    "\n",
    "    def __call__(self, func):\n",
    "        @wraps(func)\n",
    "        def wrapped_function(*args, **kwargs):\n",
    "            log_string = func.__name__ + \" was called\"\n",
    "            print(log_string)\n",
    "            # 打开logfile并写入\n",
    "            with open(self.logfile, 'a') as opened_file:\n",
    "                # 现在将日志打到指定的文件\n",
    "                opened_file.write(log_string + '\\n')\n",
    "            # 现在，发送一个通知\n",
    "            self.notify()\n",
    "            return func(*args, **kwargs)\n",
    "        return wrapped_function\n",
    "\n",
    "    def notify(self):\n",
    "        # logit只打日志，不做别的\n",
    "        pass\n",
    " \n",
    "\n",
    "@logit()\n",
    "def myfunc1():\n",
    "    pass\n",
    "\n",
    "\n",
    "myfunc1()"
   ]
  }
 ],
 "metadata": {
  "kernelspec": {
   "display_name": "Python 3",
   "language": "python",
   "name": "python3"
  },
  "language_info": {
   "codemirror_mode": {
    "name": "ipython",
    "version": 3
   },
   "file_extension": ".py",
   "mimetype": "text/x-python",
   "name": "python",
   "nbconvert_exporter": "python",
   "pygments_lexer": "ipython3",
   "version": "3.7.6"
  }
 },
 "nbformat": 4,
 "nbformat_minor": 4
}
